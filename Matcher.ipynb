{
 "cells": [
  {
   "cell_type": "markdown",
   "id": "21eb0799-3a53-47ce-b923-3a88432ab135",
   "metadata": {},
   "source": [
    "# Use of Matcher for token matching"
   ]
  },
  {
   "cell_type": "code",
   "execution_count": 3,
   "id": "2b0451ae-6b9b-46a4-8106-9df64a8bef0b",
   "metadata": {},
   "outputs": [],
   "source": [
    "import spacy\n",
    "nlp = spacy.load('en_core_web_sm')\n",
    "\n",
    "from spacy.matcher import Matcher\n",
    "matcher = Matcher(nlp.vocab)"
   ]
  },
  {
   "cell_type": "code",
   "execution_count": 4,
   "id": "c94628ef-dd41-48e6-99f4-b9a6d73d4d5a",
   "metadata": {},
   "outputs": [],
   "source": [
    "pattern1 = [{'LOWER': 'solarpower'}]\n",
    "pattern2 = [{'LOWER': 'solar'}, {'IS_PUNCT': True}, {'LOWER': 'power'}]\n",
    "pattern3 = [{'LOWER': 'solar'}, {'LOWER': 'power'}]"
   ]
  },
  {
   "cell_type": "code",
   "execution_count": 20,
   "id": "cdd8b9d1-eec1-422c-8e23-d655db80cfd7",
   "metadata": {},
   "outputs": [],
   "source": [
    "doc = nlp(u'Nowadays Solar power is getting popular beacuse of solarpower industry is rising. Today solar-power is potential source of energy.')"
   ]
  },
  {
   "cell_type": "code",
   "execution_count": 21,
   "id": "110e1991-81ef-42d7-86b7-a7641d1f1d7e",
   "metadata": {},
   "outputs": [],
   "source": [
    "matcher.add('Solarpower', [pattern1, pattern2, pattern3])"
   ]
  },
  {
   "cell_type": "code",
   "execution_count": 22,
   "id": "a821b1c2-92a3-4eaa-84d7-ea8d09138f1f",
   "metadata": {},
   "outputs": [
    {
     "data": {
      "text/plain": [
       "[(6544436658971563323, 1, 3),\n",
       " (6544436658971563323, 8, 9),\n",
       " (6544436658971563323, 14, 17)]"
      ]
     },
     "execution_count": 22,
     "metadata": {},
     "output_type": "execute_result"
    }
   ],
   "source": [
    "found_matches = matcher(doc)\n",
    "found_matches"
   ]
  },
  {
   "cell_type": "code",
   "execution_count": 24,
   "id": "544900c7-7876-43a9-afbc-7f6ee47fa14a",
   "metadata": {},
   "outputs": [
    {
     "name": "stdout",
     "output_type": "stream",
     "text": [
      "6544436658971563323 Solarpower 1 3 Solar power\n",
      "6544436658971563323 Solarpower 8 9 solarpower\n",
      "6544436658971563323 Solarpower 14 17 solar-power\n"
     ]
    }
   ],
   "source": [
    "for match_id, start_ind, end_ind in found_matches:\n",
    "    string_id = nlp.vocab.strings[match_id]\n",
    "    span = doc[start_ind:end_ind]\n",
    "    print(match_id, string_id, start_ind, end_ind, span.text)"
   ]
  },
  {
   "cell_type": "code",
   "execution_count": 25,
   "id": "4159b027-8561-4067-bf19-d908511b7d0d",
   "metadata": {},
   "outputs": [],
   "source": [
    "# We can remove the matcher id from the matcher\n",
    "\n",
    "matcher.remove('Solarpower')"
   ]
  },
  {
   "cell_type": "code",
   "execution_count": 27,
   "id": "30053f56-5aa4-4359-b609-3b7b55629003",
   "metadata": {},
   "outputs": [],
   "source": [
    "pattern1 = [{'LOWER': 'solarpower'}]\n",
    "pattern2 = [{'LOWER': 'solar'}, {'IS_PUNCT': True, 'OP': '*'}, {'LOWER': 'power'}]"
   ]
  },
  {
   "cell_type": "code",
   "execution_count": 28,
   "id": "c21b875e-9ddc-4984-b26b-19d9dad4dcaf",
   "metadata": {},
   "outputs": [],
   "source": [
    "matcher.add('Solarpower', [pattern1, pattern2])"
   ]
  },
  {
   "cell_type": "code",
   "execution_count": 32,
   "id": "a9b3b17d-b632-4417-99e2-f375d618ffbd",
   "metadata": {},
   "outputs": [
    {
     "data": {
      "text/plain": [
       "[(6544436658971563323, 0, 3),\n",
       " (6544436658971563323, 4, 5),\n",
       " (6544436658971563323, 6, 8)]"
      ]
     },
     "execution_count": 32,
     "metadata": {},
     "output_type": "execute_result"
    }
   ],
   "source": [
    "doc = nlp(u'Solar---power is solarpower, solar power, yay!')\n",
    "\n",
    "found_matches = matcher(doc)\n",
    "found_matches"
   ]
  },
  {
   "cell_type": "markdown",
   "id": "86456493-ffae-4d55-99d8-7151727fa949",
   "metadata": {},
   "source": [
    "# Phrase Matcher of SPACY"
   ]
  },
  {
   "cell_type": "code",
   "execution_count": 2,
   "id": "50d26ecf-c2e6-47d1-9ade-3d609016b63c",
   "metadata": {},
   "outputs": [],
   "source": [
    "import spacy\n",
    "from spacy.matcher import PhraseMatcher\n",
    "\n",
    "nlp = spacy.load('en_core_web_sm')\n",
    "ph_matcher = PhraseMatcher(nlp.vocab)"
   ]
  },
  {
   "cell_type": "code",
   "execution_count": 3,
   "id": "43232762-e2a2-4840-8bd6-e8789e9554ba",
   "metadata": {},
   "outputs": [],
   "source": [
    "with open('Files\\\\reaganomics.txt') as f:\n",
    "    doc = nlp(f.read())"
   ]
  },
  {
   "cell_type": "code",
   "execution_count": 11,
   "id": "5b9a9d0d-314c-4b0e-bfad-4e54ccebcfb1",
   "metadata": {},
   "outputs": [],
   "source": [
    "phrase_list = ['voodoo economics', 'supply-side economics', 'trickle-down economics', 'free-market economics']\n",
    "phrase_patterns = [nlp(text) for text in phrase_list]\n",
    "\n",
    "ph_matcher.add('matchEco', None, *phrase_patterns)"
   ]
  },
  {
   "cell_type": "code",
   "execution_count": 12,
   "id": "a6c3ffcb-21c8-473b-b9f5-ab6aa0e8954a",
   "metadata": {},
   "outputs": [],
   "source": [
    "found_matches = ph_matcher(doc)"
   ]
  },
  {
   "cell_type": "code",
   "execution_count": 13,
   "id": "ac4cfb0c-3138-47c6-91db-dc38afeb1cdc",
   "metadata": {},
   "outputs": [
    {
     "name": "stdout",
     "output_type": "stream",
     "text": [
      "7373594532109772372 matchEco 41 45 supply-side economics\n",
      "7373594532109772372 matchEco 49 53 trickle-down economics\n",
      "7373594532109772372 matchEco 54 56 voodoo economics\n",
      "7373594532109772372 matchEco 61 65 free-market economics\n",
      "7373594532109772372 matchEco 673 677 supply-side economics\n",
      "7373594532109772372 matchEco 2987 2991 trickle-down economics\n"
     ]
    }
   ],
   "source": [
    "for match_id, start_ind, end_ind in found_matches:\n",
    "    string_id = nlp.vocab.strings[match_id]\n",
    "    span = doc[start_ind:end_ind]\n",
    "    print(match_id, string_id, start_ind, end_ind, span.text)"
   ]
  },
  {
   "cell_type": "code",
   "execution_count": null,
   "id": "20641c78-e643-412b-93e0-1d995e9cfbc1",
   "metadata": {},
   "outputs": [],
   "source": []
  }
 ],
 "metadata": {
  "kernelspec": {
   "display_name": "Python 3 (ipykernel)",
   "language": "python",
   "name": "python3"
  },
  "language_info": {
   "codemirror_mode": {
    "name": "ipython",
    "version": 3
   },
   "file_extension": ".py",
   "mimetype": "text/x-python",
   "name": "python",
   "nbconvert_exporter": "python",
   "pygments_lexer": "ipython3",
   "version": "3.12.8"
  }
 },
 "nbformat": 4,
 "nbformat_minor": 5
}
