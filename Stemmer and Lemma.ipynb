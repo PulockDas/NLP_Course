{
 "cells": [
  {
   "cell_type": "markdown",
   "id": "e890acd0-2fe3-410c-97ec-3fe348d26a55",
   "metadata": {},
   "source": [
    "# Stemmer using NLTK"
   ]
  },
  {
   "cell_type": "code",
   "execution_count": 1,
   "id": "deb71d91-55ee-4fe3-9db4-0dfe1ade4fc6",
   "metadata": {},
   "outputs": [],
   "source": [
    "import nltk\n",
    "from nltk.stem.porter import PorterStemmer"
   ]
  },
  {
   "cell_type": "code",
   "execution_count": 2,
   "id": "a0baff95-03d7-43e8-ad68-d604879ad42f",
   "metadata": {},
   "outputs": [
    {
     "name": "stdout",
     "output_type": "stream",
     "text": [
      "run---->run\n",
      "ran---->ran\n",
      "runs---->run\n",
      "runner---->runner\n",
      "easily---->easili\n",
      "fairly---->fairli\n"
     ]
    }
   ],
   "source": [
    "p_stemmer = PorterStemmer()\n",
    "\n",
    "words = ['run', 'ran', 'runs', 'runner', 'easily', 'fairly']\n",
    "\n",
    "for word in words:\n",
    "    print(word + '---->' + p_stemmer.stem(word))"
   ]
  },
  {
   "cell_type": "code",
   "execution_count": 3,
   "id": "00bd1919-8242-4c4b-b7d0-a5787a17d44d",
   "metadata": {},
   "outputs": [],
   "source": [
    "from nltk.stem.snowball import SnowballStemmer\n",
    "\n",
    "s_stemmer = SnowballStemmer(language='english')"
   ]
  },
  {
   "cell_type": "code",
   "execution_count": 4,
   "id": "84b961fc-7ecf-4c5e-b8f7-e643a15dbfa2",
   "metadata": {},
   "outputs": [
    {
     "name": "stdout",
     "output_type": "stream",
     "text": [
      "run---->run\n",
      "ran---->ran\n",
      "runs---->run\n",
      "runner---->runner\n",
      "easily---->easili\n",
      "fairly---->fair\n"
     ]
    }
   ],
   "source": [
    "for word in words:\n",
    "    print(word + '---->' + s_stemmer.stem(word))"
   ]
  },
  {
   "cell_type": "code",
   "execution_count": 5,
   "id": "a9b2b210-1bbd-47bd-ba8a-91fd145b526a",
   "metadata": {},
   "outputs": [],
   "source": [
    "words = ['generous', 'generation', 'generously', 'generate']"
   ]
  },
  {
   "cell_type": "code",
   "execution_count": 6,
   "id": "19e7a2f3-bcb9-469c-a9f6-cc6f55270040",
   "metadata": {},
   "outputs": [
    {
     "name": "stdout",
     "output_type": "stream",
     "text": [
      "generous---->generous\n",
      "generation---->generat\n",
      "generously---->generous\n",
      "generate---->generat\n"
     ]
    }
   ],
   "source": [
    "for word in words:\n",
    "    print(word + '---->' + s_stemmer.stem(word))"
   ]
  },
  {
   "cell_type": "code",
   "execution_count": 7,
   "id": "50b83ce0-34e5-44f0-aa50-e0a24fad9e02",
   "metadata": {},
   "outputs": [
    {
     "name": "stdout",
     "output_type": "stream",
     "text": [
      "generous---->gener\n",
      "generation---->gener\n",
      "generously---->gener\n",
      "generate---->gener\n"
     ]
    }
   ],
   "source": [
    "for word in words:\n",
    "    print(word + '---->' + p_stemmer.stem(word))"
   ]
  },
  {
   "cell_type": "markdown",
   "id": "42f3e948-65f5-4cc7-b049-28f710e02c02",
   "metadata": {},
   "source": [
    "# Lemmatization using SPACY"
   ]
  },
  {
   "cell_type": "code",
   "execution_count": 1,
   "id": "4f6db36f-710e-4db5-88a7-1a152cecad31",
   "metadata": {},
   "outputs": [],
   "source": [
    "import spacy\n",
    "\n",
    "nlp = spacy.load('en_core_web_sm')"
   ]
  },
  {
   "cell_type": "code",
   "execution_count": 15,
   "id": "7bbcdc5c-f379-44bf-bd80-72651f2653b3",
   "metadata": {},
   "outputs": [],
   "source": [
    "doc = nlp(u'I am a runner and I run regulary in the running track where I used to ran in my childhood. Now Boby is running relentlessly.')"
   ]
  },
  {
   "cell_type": "code",
   "execution_count": 16,
   "id": "9e23e628-e2dd-438c-81e3-28b717fca084",
   "metadata": {},
   "outputs": [],
   "source": [
    "def show_lemma(doc):\n",
    "    for token in doc:\n",
    "        print(f'{token.text:{15}}{token.pos_:{10}}{token.lemma:<{25}}{token.lemma_:{15}}')"
   ]
  },
  {
   "cell_type": "code",
   "execution_count": 17,
   "id": "562700b7-edaf-4b43-9316-6b1b770b25c4",
   "metadata": {},
   "outputs": [
    {
     "name": "stdout",
     "output_type": "stream",
     "text": [
      "I              PRON      4690420944186131903      I              \n",
      "am             AUX       10382539506755952630     be             \n",
      "a              DET       11901859001352538922     a              \n",
      "runner         NOUN      12640964157389618806     runner         \n",
      "and            CCONJ     2283656566040971221      and            \n",
      "I              PRON      4690420944186131903      I              \n",
      "run            VERB      12767647472892411841     run            \n",
      "regulary       ADV       4419975782549702806      regulary       \n",
      "in             ADP       3002984154512732771      in             \n",
      "the            DET       7425985699627899538      the            \n",
      "running        NOUN      12212083579121184944     running        \n",
      "track          NOUN      13353920538491180942     track          \n",
      "where          SCONJ     16318918034475841628     where          \n",
      "I              PRON      4690420944186131903      I              \n",
      "used           VERB      6873750497785110593      use            \n",
      "to             PART      3791531372978436496      to             \n",
      "ran            VERB      6840958122370687302      ran            \n",
      "in             ADP       3002984154512732771      in             \n",
      "my             PRON      227504873216781231       my             \n",
      "childhood      NOUN      2927356080012357581      childhood      \n",
      ".              PUNCT     12646065887601541794     .              \n",
      "Now            ADV       17157488710739566268     now            \n",
      "Boby           PROPN     7744098555319305484      Boby           \n",
      "is             AUX       10382539506755952630     be             \n",
      "running        VERB      12767647472892411841     run            \n",
      "relentlessly   ADV       10321715267658739575     relentlessly   \n",
      ".              PUNCT     12646065887601541794     .              \n"
     ]
    }
   ],
   "source": [
    "show_lemma(doc)"
   ]
  },
  {
   "cell_type": "code",
   "execution_count": null,
   "id": "59f81f8d-b197-4637-837e-c4429a75c31d",
   "metadata": {},
   "outputs": [],
   "source": []
  }
 ],
 "metadata": {
  "kernelspec": {
   "display_name": "Python 3 (ipykernel)",
   "language": "python",
   "name": "python3"
  },
  "language_info": {
   "codemirror_mode": {
    "name": "ipython",
    "version": 3
   },
   "file_extension": ".py",
   "mimetype": "text/x-python",
   "name": "python",
   "nbconvert_exporter": "python",
   "pygments_lexer": "ipython3",
   "version": "3.12.8"
  }
 },
 "nbformat": 4,
 "nbformat_minor": 5
}
