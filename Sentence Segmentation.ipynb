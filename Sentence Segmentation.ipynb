{
 "cells": [
  {
   "cell_type": "code",
   "execution_count": 24,
   "id": "ecd437ed-847a-4cc8-a8e8-31e06c7353b9",
   "metadata": {},
   "outputs": [],
   "source": [
    "import spacy\n",
    "\n",
    "nlp = spacy.load('en_core_web_sm')"
   ]
  },
  {
   "cell_type": "code",
   "execution_count": 25,
   "id": "0e012aac-1a20-4614-99f4-3176d4be214a",
   "metadata": {},
   "outputs": [],
   "source": [
    "doc = nlp(u'\"Management is very important; leardership is also important.\" - Peter Drag')"
   ]
  },
  {
   "cell_type": "code",
   "execution_count": 26,
   "id": "437c2e06-cc11-4f23-8cc8-9b8617e64f95",
   "metadata": {},
   "outputs": [],
   "source": [
    "def show_sentences(doc):\n",
    "    for sent in doc.sents:\n",
    "        print(sent)"
   ]
  },
  {
   "cell_type": "code",
   "execution_count": 27,
   "id": "485891cf-8f93-4d5d-9b7e-462bb6ddf07b",
   "metadata": {},
   "outputs": [
    {
     "name": "stdout",
     "output_type": "stream",
     "text": [
      "\"Management is very important; leardership is also important.\"\n",
      "- Peter Drag\n"
     ]
    }
   ],
   "source": [
    "show_sentences(doc)"
   ]
  },
  {
   "cell_type": "markdown",
   "id": "a4807537-b304-41ce-8141-78b95d76cbfe",
   "metadata": {},
   "source": [
    "# Adding a semicolon breaker"
   ]
  },
  {
   "cell_type": "code",
   "execution_count": 28,
   "id": "d61528ef-2977-4949-8a73-bd645ac8a878",
   "metadata": {},
   "outputs": [],
   "source": [
    "from spacy.language import Language\n",
    "\n",
    "@Language.component(\"set_custom_boundaries\")\n",
    "def set_custom_boundaries(doc):\n",
    "    for token in doc[:-1]:\n",
    "        if token.text == ';':\n",
    "            doc[token.i+1].is_sent_start = True\n",
    "    return doc"
   ]
  },
  {
   "cell_type": "code",
   "execution_count": 29,
   "id": "0b64558f-14d6-4459-b13f-3fa0c8d3067b",
   "metadata": {},
   "outputs": [
    {
     "data": {
      "text/plain": [
       "['tok2vec', 'tagger', 'parser', 'attribute_ruler', 'lemmatizer', 'ner']"
      ]
     },
     "execution_count": 29,
     "metadata": {},
     "output_type": "execute_result"
    }
   ],
   "source": [
    "nlp.pipe_names"
   ]
  },
  {
   "cell_type": "code",
   "execution_count": 30,
   "id": "402f6398-fffd-4c9c-b3c7-a0d7d5825a9a",
   "metadata": {},
   "outputs": [
    {
     "data": {
      "text/plain": [
       "<function __main__.set_custom_boundaries(doc)>"
      ]
     },
     "execution_count": 30,
     "metadata": {},
     "output_type": "execute_result"
    }
   ],
   "source": [
    "nlp.add_pipe('set_custom_boundaries', before='parser')"
   ]
  },
  {
   "cell_type": "code",
   "execution_count": 31,
   "id": "a29b6269-fc93-4375-a747-ac5b6df733fa",
   "metadata": {},
   "outputs": [
    {
     "data": {
      "text/plain": [
       "['tok2vec',\n",
       " 'tagger',\n",
       " 'set_custom_boundaries',\n",
       " 'parser',\n",
       " 'attribute_ruler',\n",
       " 'lemmatizer',\n",
       " 'ner']"
      ]
     },
     "execution_count": 31,
     "metadata": {},
     "output_type": "execute_result"
    }
   ],
   "source": [
    "nlp.pipe_names"
   ]
  },
  {
   "cell_type": "code",
   "execution_count": 32,
   "id": "10980b46-16f9-465e-be6c-12234a3abe80",
   "metadata": {},
   "outputs": [],
   "source": [
    "doc2 = nlp(u'\"Management is very important; leardership is also important.\" - Peter Drag')"
   ]
  },
  {
   "cell_type": "code",
   "execution_count": 33,
   "id": "0c9c3492-91ce-4021-8fce-23b5106556ac",
   "metadata": {},
   "outputs": [
    {
     "name": "stdout",
     "output_type": "stream",
     "text": [
      "\"Management is very important;\n",
      "leardership is also important.\"\n",
      "- Peter Drag\n"
     ]
    }
   ],
   "source": [
    "for sent in doc2.sents:\n",
    "    print(sent)"
   ]
  },
  {
   "cell_type": "code",
   "execution_count": 34,
   "id": "3bbcd897-c42d-41c0-b638-3561b7b894c8",
   "metadata": {},
   "outputs": [],
   "source": [
    "nlp = spacy.load('en_core_web_sm')"
   ]
  },
  {
   "cell_type": "code",
   "execution_count": 35,
   "id": "8c44a238-834b-431a-9090-af36ce79a321",
   "metadata": {},
   "outputs": [],
   "source": [
    "doc = nlp(u'This is the 1st sentence. This is the 2nd sentence. \\n\\n This is the final sentence')"
   ]
  },
  {
   "cell_type": "code",
   "execution_count": 36,
   "id": "edf3870c-77d2-4202-aec7-84711daab0e0",
   "metadata": {},
   "outputs": [
    {
     "name": "stdout",
     "output_type": "stream",
     "text": [
      "new sent: This is the 1st sentence.\n",
      "new sent: This is the 2nd sentence. \n",
      "\n",
      " \n",
      "new sent: This is the final sentence\n"
     ]
    }
   ],
   "source": [
    "for sent in doc.sents:\n",
    "    print(f\"new sent: {sent}\")"
   ]
  },
  {
   "cell_type": "markdown",
   "id": "4e2b3ee5-8fd6-4aa8-81ee-8dd42938cd5a",
   "metadata": {},
   "source": [
    "# Spliting sentences with customized stratigies"
   ]
  },
  {
   "cell_type": "code",
   "execution_count": 37,
   "id": "feb1aa39-85bc-4946-aca7-28f89dc10c43",
   "metadata": {},
   "outputs": [],
   "source": [
    "def split_on_newlines(doc):\n",
    "    seen_new_line = False\n",
    "    start = 0\n",
    "    \n",
    "    for word in doc:\n",
    "        if seen_new_line:\n",
    "            yield doc[start:word.i]\n",
    "            start = word.i\n",
    "            seen_new_line = False\n",
    "        elif word.text.startswith('\\n'):\n",
    "            seen_new_line = True\n",
    "        yield doc[start:]"
   ]
  },
  {
   "cell_type": "code",
   "execution_count": 38,
   "id": "38e0d2d8-5e51-4355-81c0-e0a4ef21590f",
   "metadata": {},
   "outputs": [
    {
     "ename": "ImportError",
     "evalue": "cannot import name 'SentenceSegmenter' from 'spacy.pipeline' (C:\\Users\\Asus\\anaconda3\\envs\\nlp_course\\Lib\\site-packages\\spacy\\pipeline\\__init__.py)",
     "output_type": "error",
     "traceback": [
      "\u001b[1;31m---------------------------------------------------------------------------\u001b[0m",
      "\u001b[1;31mImportError\u001b[0m                               Traceback (most recent call last)",
      "Cell \u001b[1;32mIn[38], line 1\u001b[0m\n\u001b[1;32m----> 1\u001b[0m \u001b[38;5;28;01mfrom\u001b[39;00m \u001b[38;5;21;01mspacy\u001b[39;00m\u001b[38;5;21;01m.\u001b[39;00m\u001b[38;5;21;01mpipeline\u001b[39;00m \u001b[38;5;28;01mimport\u001b[39;00m SentenceSegmenter\n",
      "\u001b[1;31mImportError\u001b[0m: cannot import name 'SentenceSegmenter' from 'spacy.pipeline' (C:\\Users\\Asus\\anaconda3\\envs\\nlp_course\\Lib\\site-packages\\spacy\\pipeline\\__init__.py)"
     ]
    }
   ],
   "source": [
    "from spacy.pipeline import SentenceSegmenter # this module doesn't exist now"
   ]
  },
  {
   "cell_type": "code",
   "execution_count": null,
   "id": "d75cc0f7-0480-43c6-8c20-528ae7cfa038",
   "metadata": {},
   "outputs": [],
   "source": []
  }
 ],
 "metadata": {
  "kernelspec": {
   "display_name": "Python 3 (ipykernel)",
   "language": "python",
   "name": "python3"
  },
  "language_info": {
   "codemirror_mode": {
    "name": "ipython",
    "version": 3
   },
   "file_extension": ".py",
   "mimetype": "text/x-python",
   "name": "python",
   "nbconvert_exporter": "python",
   "pygments_lexer": "ipython3",
   "version": "3.12.8"
  }
 },
 "nbformat": 4,
 "nbformat_minor": 5
}
