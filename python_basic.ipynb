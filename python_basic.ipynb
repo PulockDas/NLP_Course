{
 "cells": [
  {
   "cell_type": "markdown",
   "id": "2ca01198-a840-4aec-a090-f2987112feb5",
   "metadata": {},
   "source": [
    "# List Printing Formation"
   ]
  },
  {
   "cell_type": "code",
   "execution_count": 14,
   "id": "ac87000d-8d0c-42e2-8018-8622e4831785",
   "metadata": {},
   "outputs": [
    {
     "name": "stdout",
     "output_type": "stream",
     "text": [
      "Author     Book            -----Pages\n",
      "Pulock     How to sleep    --------50\n",
      "Tagore     Geetanjali      -----10000\n"
     ]
    }
   ],
   "source": [
    "libraries = [(\"Author\", \"Book\", \"Pages\"), (\"Pulock\", \"How to sleep\", 50), (\"Tagore\", \"Geetanjali\", 10000)]\n",
    "\n",
    "for author, book, page in libraries:\n",
    "    print(f\"{author:{10}} {book:{15}} {page:->{10}}\")"
   ]
  },
  {
   "cell_type": "markdown",
   "id": "8078a1bd-0860-4062-baa6-cbf244a6af69",
   "metadata": {},
   "source": [
    "# Datetime format"
   ]
  },
  {
   "cell_type": "code",
   "execution_count": 20,
   "id": "da614b3f-4e79-4754-80ca-a3c065353ff5",
   "metadata": {},
   "outputs": [
    {
     "name": "stdout",
     "output_type": "stream",
     "text": [
      "December 18, 2024\n"
     ]
    }
   ],
   "source": [
    "from datetime import datetime\n",
    "\n",
    "today = datetime(year=2024, month=12, day=18)\n",
    "print(f\"{today:%B %d, %Y}\")       # use strftime.org for the literals"
   ]
  },
  {
   "cell_type": "code",
   "execution_count": 16,
   "id": "1802b201-68c6-46b2-ba58-1fdacdeff5ba",
   "metadata": {},
   "outputs": [
    {
     "data": {
      "text/plain": [
       "datetime.datetime(2024, 12, 18, 0, 0)"
      ]
     },
     "execution_count": 16,
     "metadata": {},
     "output_type": "execute_result"
    }
   ],
   "source": [
    "today"
   ]
  },
  {
   "cell_type": "markdown",
   "id": "9b88f8f5-b514-40fb-a408-f8e150e19aa6",
   "metadata": {},
   "source": [
    "# File Activities Python\n",
    "creating file with the content, this method only works only for jupyter notebook"
   ]
  },
  {
   "cell_type": "code",
   "execution_count": 22,
   "id": "6a72aebe-8b5f-477a-b190-1f99fcf47dd2",
   "metadata": {},
   "outputs": [
    {
     "name": "stdout",
     "output_type": "stream",
     "text": [
      "Writing demo.txt\n"
     ]
    }
   ],
   "source": [
    "%%writefile demo.txt\n",
    "This is the 1st line.\n",
    "This is the 2nd line."
   ]
  },
  {
   "cell_type": "code",
   "execution_count": 23,
   "id": "cb104bd9-dc18-4f8c-8b10-c7f13ea44a4c",
   "metadata": {},
   "outputs": [
    {
     "data": {
      "text/plain": [
       "<_io.TextIOWrapper name='demo.txt' mode='r' encoding='cp1252'>"
      ]
     },
     "execution_count": 23,
     "metadata": {},
     "output_type": "execute_result"
    }
   ],
   "source": [
    "demo_file = open(\"demo.txt\")\n",
    "demo_file"
   ]
  },
  {
   "cell_type": "code",
   "execution_count": 24,
   "id": "62058d15-073a-4410-afc6-2f783eaa65d7",
   "metadata": {},
   "outputs": [
    {
     "data": {
      "text/plain": [
       "'D:\\\\NLP_Course'"
      ]
     },
     "execution_count": 24,
     "metadata": {},
     "output_type": "execute_result"
    }
   ],
   "source": [
    "pwd"
   ]
  },
  {
   "cell_type": "code",
   "execution_count": 25,
   "id": "9e28ce44-46a9-46ff-a2fb-f42ecb65e271",
   "metadata": {},
   "outputs": [
    {
     "data": {
      "text/plain": [
       "<_io.TextIOWrapper name='D:\\\\NLP_Course\\\\demo.txt' mode='r' encoding='cp1252'>"
      ]
     },
     "execution_count": 25,
     "metadata": {},
     "output_type": "execute_result"
    }
   ],
   "source": [
    "demo_file = open('D:\\\\NLP_Course\\\\demo.txt')\n",
    "demo_file"
   ]
  },
  {
   "cell_type": "code",
   "execution_count": 26,
   "id": "a7f8ace3-a088-4ee1-9966-85588a077223",
   "metadata": {},
   "outputs": [
    {
     "data": {
      "text/plain": [
       "'This is the 1st line.\\nThis is the 2nd line.\\n'"
      ]
     },
     "execution_count": 26,
     "metadata": {},
     "output_type": "execute_result"
    }
   ],
   "source": [
    "demo_file.read()"
   ]
  },
  {
   "cell_type": "code",
   "execution_count": 27,
   "id": "3bace246-326d-4b92-8837-2e282e621b91",
   "metadata": {},
   "outputs": [
    {
     "data": {
      "text/plain": [
       "''"
      ]
     },
     "execution_count": 27,
     "metadata": {},
     "output_type": "execute_result"
    }
   ],
   "source": [
    "demo_file.read()"
   ]
  },
  {
   "cell_type": "code",
   "execution_count": 29,
   "id": "d2cbe2da-6744-44a1-9773-e5e2e9db2bcb",
   "metadata": {},
   "outputs": [
    {
     "data": {
      "text/plain": [
       "0"
      ]
     },
     "execution_count": 29,
     "metadata": {},
     "output_type": "execute_result"
    }
   ],
   "source": [
    "demo_file.seek(0) # it'll reorder the cursor to the beginning of the text"
   ]
  },
  {
   "cell_type": "code",
   "execution_count": 32,
   "id": "8a055d69-2524-4d88-82df-704ebda7b318",
   "metadata": {},
   "outputs": [
    {
     "name": "stdout",
     "output_type": "stream",
     "text": [
      "This is the 1st line.\n",
      "This is the 2nd line.\n",
      "\n"
     ]
    },
    {
     "data": {
      "text/plain": [
       "0"
      ]
     },
     "execution_count": 32,
     "metadata": {},
     "output_type": "execute_result"
    }
   ],
   "source": [
    "print(demo_file.read())\n",
    "demo_file.seek(0)"
   ]
  },
  {
   "cell_type": "code",
   "execution_count": 37,
   "id": "83bff73a-5e8a-4cd8-88b6-ffe69ee79e9e",
   "metadata": {},
   "outputs": [],
   "source": [
    "demo_file.close()\n",
    "demo_file = open('demo.txt')"
   ]
  },
  {
   "cell_type": "code",
   "execution_count": 38,
   "id": "9e6a53e3-d030-484d-acc0-b4844b9876c6",
   "metadata": {},
   "outputs": [
    {
     "data": {
      "text/plain": [
       "['This is the 1st line.\\n', 'This is the 2nd line.\\n']"
      ]
     },
     "execution_count": 38,
     "metadata": {},
     "output_type": "execute_result"
    }
   ],
   "source": [
    "lines = demo_file.readlines()\n",
    "lines"
   ]
  },
  {
   "cell_type": "code",
   "execution_count": 39,
   "id": "cc48d352-c5fc-428f-99de-d58c4caa6bb3",
   "metadata": {},
   "outputs": [
    {
     "name": "stdout",
     "output_type": "stream",
     "text": [
      "\n"
     ]
    }
   ],
   "source": [
    "demo_file = open('demo.txt', 'w+') # opening file like this will make the file clean and do override\n",
    "demo_file.seek(0)\n",
    "print(demo_file.read())"
   ]
  },
  {
   "cell_type": "code",
   "execution_count": 41,
   "id": "68e15cd8-2a5d-479c-ade9-afd158ab598d",
   "metadata": {},
   "outputs": [
    {
     "data": {
      "text/plain": [
       "'Brand New TextBrand New Text'"
      ]
     },
     "execution_count": 41,
     "metadata": {},
     "output_type": "execute_result"
    }
   ],
   "source": [
    "demo_file.write(\"Brand New Text\")\n",
    "demo_file.read()\n",
    "demo_file.seek(0)\n",
    "demo_file.read()"
   ]
  },
  {
   "cell_type": "code",
   "execution_count": 42,
   "id": "c0322f79-0c51-4135-87d6-44a68f81c9e6",
   "metadata": {},
   "outputs": [],
   "source": [
    "# mode a+ means writing with appending the previous content\n",
    "demo_file.close()"
   ]
  },
  {
   "cell_type": "code",
   "execution_count": 43,
   "id": "dafc1458-4bed-4384-8e3b-e989f8a7f6d7",
   "metadata": {},
   "outputs": [
    {
     "name": "stdout",
     "output_type": "stream",
     "text": [
      "Overwriting demo.txt\n"
     ]
    }
   ],
   "source": [
    "%%writefile demo.txt\n",
    "This is the 1st line.\n",
    "This is the 2nd line."
   ]
  },
  {
   "cell_type": "code",
   "execution_count": 44,
   "id": "ae816663-e692-43e7-8d6d-1ee63803c311",
   "metadata": {},
   "outputs": [
    {
     "name": "stdout",
     "output_type": "stream",
     "text": [
      "This is the 1st line.\n",
      "\n",
      "This is the 2nd line.\n",
      "\n"
     ]
    }
   ],
   "source": [
    "# many times, someone forgets about closing a file after opening it\n",
    "# that's why we should use a context manager block 'with'\n",
    "\n",
    "with open('demo.txt') as demo:\n",
    "    newlines = demo.readlines()\n",
    "    for eachline in newlines:\n",
    "        print(eachline)"
   ]
  },
  {
   "cell_type": "markdown",
   "id": "109fbee1-5bed-44d8-95f8-2cd0c3fb489b",
   "metadata": {},
   "source": [
    "# Working with PDF; use of PyPDF2 module\n",
    "it won't gurantee the extraction of scanned pdf data or all word documented pdf data (unsupported codec)"
   ]
  },
  {
   "cell_type": "code",
   "execution_count": 4,
   "id": "1b3d9021-d7f8-4a19-b1b0-ee46de1d292b",
   "metadata": {},
   "outputs": [
    {
     "name": "stdout",
     "output_type": "stream",
     "text": [
      "Collecting PyPDF2\n",
      "  Downloading pypdf2-3.0.1-py3-none-any.whl.metadata (6.8 kB)\n",
      "Downloading pypdf2-3.0.1-py3-none-any.whl (232 kB)\n",
      "Installing collected packages: PyPDF2\n",
      "Successfully installed PyPDF2-3.0.1\n"
     ]
    }
   ],
   "source": [
    "! pip install PyPDF2"
   ]
  },
  {
   "cell_type": "code",
   "execution_count": 9,
   "id": "109ee565-5aef-4ed8-b3c9-15d9737fb437",
   "metadata": {},
   "outputs": [],
   "source": [
    "import PyPDF2\n",
    "myfile = open('Files\\\\NJIT - SOP - Pulock Das.pdf', mode='rb') # rb mode means reading in a binary mode\n",
    "pdf_reader = PyPDF2.PdfReader(myfile)"
   ]
  },
  {
   "cell_type": "code",
   "execution_count": 12,
   "id": "4b493283-5e9e-4ac2-bb4f-b729b86e2c0d",
   "metadata": {},
   "outputs": [
    {
     "data": {
      "text/plain": [
       "2"
      ]
     },
     "execution_count": 12,
     "metadata": {},
     "output_type": "execute_result"
    }
   ],
   "source": [
    "len(pdf_reader.pages)"
   ]
  },
  {
   "cell_type": "code",
   "execution_count": 14,
   "id": "0f607e9c-cae4-4d5b-b96c-758f06ec8e83",
   "metadata": {},
   "outputs": [],
   "source": [
    "page_one = pdf_reader.pages[0]"
   ]
  },
  {
   "cell_type": "code",
   "execution_count": 19,
   "id": "861cab2b-bdf9-4680-860f-23f1a69c4fc4",
   "metadata": {},
   "outputs": [],
   "source": [
    "mytext = page_one.extract_text()"
   ]
  },
  {
   "cell_type": "code",
   "execution_count": 20,
   "id": "a7213eac-5035-4ad3-b6b1-33371e1eed25",
   "metadata": {},
   "outputs": [],
   "source": [
    "myfile.close()"
   ]
  },
  {
   "cell_type": "markdown",
   "id": "a5bdee91-9ac5-4364-ba58-249d8d5a7061",
   "metadata": {},
   "source": [
    "One Can't add python strings to any pdf files.\n",
    "But can add pages from other pdf to one pdf"
   ]
  },
  {
   "cell_type": "code",
   "execution_count": 32,
   "id": "3e116e67-e23f-402b-85a0-77bc5552ca04",
   "metadata": {},
   "outputs": [],
   "source": [
    "f = open('Files\\\\NJIT - SOP - Pulock Das.pdf', mode='rb')\n",
    "pdf_reader = PyPDF2.PdfReader(f)\n",
    "first_page = pdf_reader.pages[0]"
   ]
  },
  {
   "cell_type": "code",
   "execution_count": 33,
   "id": "bc5d578b-256c-48c3-b76a-9cd9cfb85a26",
   "metadata": {},
   "outputs": [
    {
     "data": {
      "text/plain": [
       "(False, <_io.BufferedWriter name='Files\\\\brand_new.pdf'>)"
      ]
     },
     "execution_count": 33,
     "metadata": {},
     "output_type": "execute_result"
    }
   ],
   "source": [
    "pdf_writer = PyPDF2.PdfWriter()\n",
    "pdf_writer.add_page(first_page)\n",
    "\n",
    "pdf_output = open('Files\\\\brand_new.pdf', 'wb')\n",
    "pdf_writer.write(pdf_output)"
   ]
  },
  {
   "cell_type": "code",
   "execution_count": 34,
   "id": "e3e60176-1f36-4d59-8bb9-e399a7f5ca85",
   "metadata": {},
   "outputs": [],
   "source": [
    "pdf_output.close()\n",
    "f.close()"
   ]
  },
  {
   "cell_type": "code",
   "execution_count": 37,
   "id": "b96525ec-6732-495e-9eee-2f3440c16b25",
   "metadata": {},
   "outputs": [
    {
     "name": "stdout",
     "output_type": "stream",
     "text": [
      "6\n"
     ]
    }
   ],
   "source": [
    "f = open('Files\\\\brand_new.pdf', 'rb')\n",
    "pdf_reader = PyPDF2.PdfReader(f)\n",
    "\n",
    "page_one = pdf_reader.pages[0]\n",
    "print(len(page_one))\n",
    "text = page_one.extract_text()\n",
    "f.close()"
   ]
  }
 ],
 "metadata": {
  "kernelspec": {
   "display_name": "Python 3 (ipykernel)",
   "language": "python",
   "name": "python3"
  },
  "language_info": {
   "codemirror_mode": {
    "name": "ipython",
    "version": 3
   },
   "file_extension": ".py",
   "mimetype": "text/x-python",
   "name": "python",
   "nbconvert_exporter": "python",
   "pygments_lexer": "ipython3",
   "version": "3.12.8"
  }
 },
 "nbformat": 4,
 "nbformat_minor": 5
}
