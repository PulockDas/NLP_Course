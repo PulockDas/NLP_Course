{
 "cells": [
  {
   "cell_type": "code",
   "execution_count": 1,
   "id": "e8076584-ab22-4150-a25e-0e1740f3fa45",
   "metadata": {},
   "outputs": [],
   "source": [
    "import spacy\n",
    "\n",
    "nlp = spacy.load('en_core_web_sm')"
   ]
  },
  {
   "cell_type": "code",
   "execution_count": 2,
   "id": "230ad82e-4b97-407f-8ff2-4789c185cb79",
   "metadata": {},
   "outputs": [
    {
     "data": {
      "text/plain": [
       "11"
      ]
     },
     "execution_count": 2,
     "metadata": {},
     "output_type": "execute_result"
    }
   ],
   "source": [
    "doc = nlp(u\"A quick brown fox jumped over the lazy dog's back\")\n",
    "\n",
    "len(doc)"
   ]
  },
  {
   "cell_type": "code",
   "execution_count": 5,
   "id": "b485243a-8646-44cd-9ec3-445cf8a9a92f",
   "metadata": {},
   "outputs": [
    {
     "name": "stdout",
     "output_type": "stream",
     "text": [
      "A          DET        DT    determiner                              \n",
      "quick      ADJ        JJ    adjective (English), other noun-modifier (Chinese)\n",
      "brown      ADJ        JJ    adjective (English), other noun-modifier (Chinese)\n",
      "fox        NOUN       NN    noun, singular or mass                  \n",
      "jumped     VERB       VBD   verb, past tense                        \n",
      "over       ADP        IN    conjunction, subordinating or preposition\n",
      "the        DET        DT    determiner                              \n",
      "lazy       ADJ        JJ    adjective (English), other noun-modifier (Chinese)\n",
      "dog        NOUN       NN    noun, singular or mass                  \n",
      "'s         PART       POS   possessive ending                       \n",
      "back       NOUN       NN    noun, singular or mass                  \n"
     ]
    }
   ],
   "source": [
    "for token in doc:\n",
    "    print(f'{token.text:{10}} {token.pos_:{10}} {token.tag_:{5}} {spacy.explain(token.tag_):{40}}')"
   ]
  },
  {
   "cell_type": "code",
   "execution_count": 18,
   "id": "af28b0af-2c0a-4a1a-a541-01aa47c9e96c",
   "metadata": {},
   "outputs": [
    {
     "name": "stdout",
     "output_type": "stream",
     "text": [
      "74                             POS     1\n",
      "1292078113972184607            IN      1\n",
      "10554686591937588953           JJ      3\n",
      "15267657372422890137           DT      2\n",
      "15308085513773655218           NN      3\n",
      "17109001835818727656           VBD     1\n"
     ]
    }
   ],
   "source": [
    "tag_counts = doc.count_by(spacy.attrs.TAG)\n",
    "for k, v in sorted(tag_counts.items()):\n",
    "    print(f'{k:<{30}} {doc.vocab[k].text:{5}} {v:{3}}')"
   ]
  },
  {
   "cell_type": "code",
   "execution_count": 19,
   "id": "833398c5-9d96-4b21-8e78-4d39c40ccb70",
   "metadata": {},
   "outputs": [
    {
     "name": "stdout",
     "output_type": "stream",
     "text": [
      "400. advmod: 1\n",
      "402. amod: 3\n",
      "415. det : 2\n",
      "429. nsubj: 1\n",
      "439. pobj: 1\n",
      "443. prep: 1\n",
      "8110129090154140942. case: 1\n",
      "8206900633647566924. ROOT: 1\n"
     ]
    }
   ],
   "source": [
    "DEP_counts = doc.count_by(spacy.attrs.DEP)\n",
    "\n",
    "for k,v in sorted(DEP_counts.items()):\n",
    "    print(f'{k}. {doc.vocab[k].text:{4}}: {v}')"
   ]
  }
 ],
 "metadata": {
  "kernelspec": {
   "display_name": "Python 3 (ipykernel)",
   "language": "python",
   "name": "python3"
  },
  "language_info": {
   "codemirror_mode": {
    "name": "ipython",
    "version": 3
   },
   "file_extension": ".py",
   "mimetype": "text/x-python",
   "name": "python",
   "nbconvert_exporter": "python",
   "pygments_lexer": "ipython3",
   "version": "3.12.8"
  }
 },
 "nbformat": 4,
 "nbformat_minor": 5
}
