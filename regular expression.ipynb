{
 "cells": [
  {
   "cell_type": "code",
   "execution_count": 3,
   "id": "4e1d5178-5cc1-4243-bc5e-e6f0a36c8980",
   "metadata": {},
   "outputs": [
    {
     "data": {
      "text/plain": [
       "(3, 8)"
      ]
     },
     "execution_count": 3,
     "metadata": {},
     "output_type": "execute_result"
    }
   ],
   "source": [
    "import re\n",
    "\n",
    "pattern = 'phone'\n",
    "text = 'my phone is a new phone'\n",
    "\n",
    "mymatch = re.search(pattern, text)\n",
    "mymatch.span()"
   ]
  },
  {
   "cell_type": "code",
   "execution_count": 5,
   "id": "5076f3f9-5028-4d57-8b8b-0d7a67601333",
   "metadata": {},
   "outputs": [
    {
     "data": {
      "text/plain": [
       "3"
      ]
     },
     "execution_count": 5,
     "metadata": {},
     "output_type": "execute_result"
    }
   ],
   "source": [
    "mymatch.start()"
   ]
  },
  {
   "cell_type": "code",
   "execution_count": 6,
   "id": "d40fb729-645a-4704-89f9-bba64b39133d",
   "metadata": {},
   "outputs": [
    {
     "data": {
      "text/plain": [
       "8"
      ]
     },
     "execution_count": 6,
     "metadata": {},
     "output_type": "execute_result"
    }
   ],
   "source": [
    "mymatch.end()"
   ]
  },
  {
   "cell_type": "code",
   "execution_count": 7,
   "id": "f5614a4f-c5f9-425f-aa24-94fa5ce68dcb",
   "metadata": {},
   "outputs": [
    {
     "data": {
      "text/plain": [
       "['phone', 'phone']"
      ]
     },
     "execution_count": 7,
     "metadata": {},
     "output_type": "execute_result"
    }
   ],
   "source": [
    "find_all_list = re.findall(pattern, text)\n",
    "find_all_list"
   ]
  },
  {
   "cell_type": "code",
   "execution_count": 8,
   "id": "95a10638-7825-453d-b3df-d42bcf8cd8be",
   "metadata": {},
   "outputs": [
    {
     "name": "stdout",
     "output_type": "stream",
     "text": [
      "(3, 8)\n",
      "(18, 23)\n"
     ]
    }
   ],
   "source": [
    "for match in re.finditer(pattern, text):\n",
    "    print(match.span())"
   ]
  },
  {
   "cell_type": "code",
   "execution_count": 13,
   "id": "a6f41850-e31f-48c1-9343-4f9a34a2465b",
   "metadata": {},
   "outputs": [
    {
     "data": {
      "text/plain": [
       "<re.Match object; span=(19, 36), match='+880-175-5498-675'>"
      ]
     },
     "execution_count": 13,
     "metadata": {},
     "output_type": "execute_result"
    }
   ],
   "source": [
    "# \"\"\"\n",
    "# \\d = digit\n",
    "# \\D = not digit\n",
    "# \\w = alpha-neumeric\n",
    "# \\W = not alpha-neumeric\n",
    "# \\s = white space\n",
    "# \"\"\"\n",
    "\n",
    "# \"\"\"\"\n",
    "# + = occurs once or more\n",
    "# {3} = occurs three times\n",
    "# {2, 4} = occurs 2-4 times\n",
    "# {2,} = occurs 2 or more times\n",
    "# * = occurs zero or more times\n",
    "# ? = occurs once or none\n",
    "# \"\"\"\n",
    "\n",
    "\n",
    "text = \"my phone number is +880-175-5498-675\"\n",
    "pattern = r'\\+\\d{3}-\\d{3}-\\d{4}-\\d{3}'\n",
    "\n",
    "match = re.search(pattern, text)\n",
    "match"
   ]
  },
  {
   "cell_type": "code",
   "execution_count": 14,
   "id": "07e5d8cf-3a16-47a7-85b6-e0b34687ea73",
   "metadata": {},
   "outputs": [
    {
     "data": {
      "text/plain": [
       "'+880-175-5498-675'"
      ]
     },
     "execution_count": 14,
     "metadata": {},
     "output_type": "execute_result"
    }
   ],
   "source": [
    "match.group()"
   ]
  },
  {
   "cell_type": "code",
   "execution_count": 16,
   "id": "9c4a21cd-d78c-4d67-a0cc-aa741cdcefdd",
   "metadata": {},
   "outputs": [
    {
     "data": {
      "text/plain": [
       "<re.Match object; span=(19, 36), match='+880-175-5498-675'>"
      ]
     },
     "execution_count": 16,
     "metadata": {},
     "output_type": "execute_result"
    }
   ],
   "source": [
    "pattern = r'(\\+\\d{3})-(\\d{3})-(\\d{4})-(\\d{3})'\n",
    "match = re.search(pattern, text)\n",
    "match"
   ]
  },
  {
   "cell_type": "code",
   "execution_count": 17,
   "id": "ac12999e-66ac-4cf6-8378-80bff478340b",
   "metadata": {},
   "outputs": [
    {
     "data": {
      "text/plain": [
       "'+880-175-5498-675'"
      ]
     },
     "execution_count": 17,
     "metadata": {},
     "output_type": "execute_result"
    }
   ],
   "source": [
    "match.group()"
   ]
  },
  {
   "cell_type": "code",
   "execution_count": 19,
   "id": "06d43d59-1d8f-496c-9c4c-91993cf11634",
   "metadata": {},
   "outputs": [
    {
     "data": {
      "text/plain": [
       "'+880'"
      ]
     },
     "execution_count": 19,
     "metadata": {},
     "output_type": "execute_result"
    }
   ],
   "source": [
    "match.group(1)"
   ]
  },
  {
   "cell_type": "code",
   "execution_count": 21,
   "id": "410a4a01-bbeb-4538-bc09-d95235f7723e",
   "metadata": {},
   "outputs": [
    {
     "data": {
      "text/plain": [
       "['man', 'woman']"
      ]
     },
     "execution_count": 21,
     "metadata": {},
     "output_type": "execute_result"
    }
   ],
   "source": [
    "# or statement\n",
    "\n",
    "match = re.findall(r\"man|woman\", \"A man is with an woman\")\n",
    "match"
   ]
  },
  {
   "cell_type": "code",
   "execution_count": 22,
   "id": "83b65f6f-35bc-4e54-8ab7-30d3cf6eaa7d",
   "metadata": {},
   "outputs": [
    {
     "data": {
      "text/plain": [
       "['cat', 'sat']"
      ]
     },
     "execution_count": 22,
     "metadata": {},
     "output_type": "execute_result"
    }
   ],
   "source": [
    "# wild card .\n",
    "\n",
    "match = re.findall(r\".at\", \"A cat sat on the table\")\n",
    "match"
   ]
  },
  {
   "cell_type": "code",
   "execution_count": 23,
   "id": "12925c83-05b5-46b4-991f-4203683fc965",
   "metadata": {},
   "outputs": [
    {
     "data": {
      "text/plain": [
       "['2']"
      ]
     },
     "execution_count": 23,
     "metadata": {},
     "output_type": "execute_result"
    }
   ],
   "source": [
    "# $ = ends with\n",
    "\n",
    "match = re.findall(r'\\d$', \"The 5 numbers are 2\")\n",
    "match"
   ]
  },
  {
   "cell_type": "code",
   "execution_count": 25,
   "id": "26e202b6-a991-4680-ba5e-8d69ad612f23",
   "metadata": {},
   "outputs": [
    {
     "data": {
      "text/plain": [
       "['5']"
      ]
     },
     "execution_count": 25,
     "metadata": {},
     "output_type": "execute_result"
    }
   ],
   "source": [
    "# ^ = starts with\n",
    "\n",
    "match = re.findall(r'^\\d', \"5 is the lucky number for 10 students\")\n",
    "match"
   ]
  },
  {
   "cell_type": "code",
   "execution_count": 30,
   "id": "b702bfd4-5fc4-480c-8673-ba2f91cbbc27",
   "metadata": {},
   "outputs": [
    {
     "data": {
      "text/plain": [
       "'This is a sentence with some puctuations We have to remove it Shouldn t we'"
      ]
     },
     "execution_count": 30,
     "metadata": {},
     "output_type": "execute_result"
    }
   ],
   "source": [
    "# [^] to exclude characters\n",
    "\n",
    "text = \"This, is a sentence with some puctuations! We have to remove it. Shouldn't we?\"\n",
    "list = re.findall(r\"[^,!.?' ]+\", text)\n",
    "pnc_less_text = ' '.join(list)\n",
    "pnc_less_text"
   ]
  },
  {
   "cell_type": "code",
   "execution_count": 35,
   "id": "64f37a74-6ae1-4811-95f9-2ef3ecc4d884",
   "metadata": {},
   "outputs": [
    {
     "data": {
      "text/plain": [
       "['hypen-words', 'hello-man']"
      ]
     },
     "execution_count": 35,
     "metadata": {},
     "output_type": "execute_result"
    }
   ],
   "source": [
    "# groupings using +\n",
    "\n",
    "thelist = re.findall(r\"\\w+-\\w+\", \"find all the hypen-words like this hello-man-woman.\")\n",
    "thelist"
   ]
  },
  {
   "cell_type": "code",
   "execution_count": 41,
   "id": "a43b5fad-cb5a-481d-b52c-87e22dffd71a",
   "metadata": {},
   "outputs": [
    {
     "data": {
      "text/plain": [
       "'there are many  here.'"
      ]
     },
     "execution_count": 41,
     "metadata": {},
     "output_type": "execute_result"
    }
   ],
   "source": [
    "text = \"there are many authors here.\"\n",
    "res = re.sub(r\"authors\", \"\", text)\n",
    "res"
   ]
  },
  {
   "cell_type": "code",
   "execution_count": null,
   "id": "137ab37c-3ed1-45c8-9b99-5e935dfb7bb0",
   "metadata": {},
   "outputs": [],
   "source": []
  }
 ],
 "metadata": {
  "kernelspec": {
   "display_name": "Python 3 (ipykernel)",
   "language": "python",
   "name": "python3"
  },
  "language_info": {
   "codemirror_mode": {
    "name": "ipython",
    "version": 3
   },
   "file_extension": ".py",
   "mimetype": "text/x-python",
   "name": "python",
   "nbconvert_exporter": "python",
   "pygments_lexer": "ipython3",
   "version": "3.12.8"
  }
 },
 "nbformat": 4,
 "nbformat_minor": 5
}
